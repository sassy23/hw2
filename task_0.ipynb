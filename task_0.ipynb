{
 "cells": [
  {
   "cell_type": "markdown",
   "id": "overhead-clinic",
   "metadata": {},
   "source": [
    "# Part 0: Dataloader and Visualizations"
   ]
  },
  {
   "cell_type": "code",
   "execution_count": 1,
   "id": "moved-crisis",
   "metadata": {},
   "outputs": [],
   "source": [
    "import torch\n",
    "import wandb\n",
    "import scipy.io\n",
    "\n",
    "import numpy as np\n",
    "\n",
    "import torch.nn as nn\n",
    "import torch.nn.functional as F\n",
    "import torchvision.models as models\n",
    "from torchvision import transforms, datasets\n",
    "from torch.utils.data import DataLoader\n",
    "\n",
    "from voc_dataset import VOCDataset\n",
    "\n",
    "from PIL import Image\n",
    "\n",
    "from utils import *\n",
    "\n",
    "USE_WANDB = True"
   ]
  },
  {
   "cell_type": "markdown",
   "id": "angry-prague",
   "metadata": {},
   "source": [
    "## Editing the Dataloader\n",
    "The first part of the assignment involves editing the dataloader so that we can access bounding-box proposals as well as the ground-truth bounding boxes. The ground truth bounding box can be accessed through the VOC Dataset annotations itself. Unsupervised bounding box proposals are obtained through methods such as [Selective Search](https://ivi.fnwi.uva.nl/isis/publications/2013/UijlingsIJCV2013/UijlingsIJCV2013.pdf).\n",
    "\n",
    "Since Selective Search is slow to run on each image, we have pre-computed the bounding box proposals. You should be able to access the `.mat` files using `scipy.io.loadmat('file.mat')`. Feel free to experiment with the data in the files to figure out the number of proposals per image, their scores, etc.\n",
    "\n",
    "Your task is to change the dataloader to obtain the ground-truth bounding boxes, as well as the proposed bounding boxes for each image. Returning a dictionary would be convenient here. For the bounding boxes, using the relative positions is usually a better idea since they are invariant to changes in the size of the image."
   ]
  },
  {
   "cell_type": "code",
   "execution_count": 2,
   "id": "thousand-messaging",
   "metadata": {},
   "outputs": [],
   "source": [
    "# Load the Dataset - items at a particular index can be accesed by usual indexing notation (dataset[idx])\n",
    "dataset = VOCDataset('trainval', top_n=10)"
   ]
  },
  {
   "cell_type": "code",
   "execution_count": 3,
   "id": "1716210a",
   "metadata": {},
   "outputs": [
    {
     "name": "stdout",
     "output_type": "stream",
     "text": [
      "(10, 1)\n",
      "[[1.015]\n",
      " [1.01 ]\n",
      " [0.715]\n",
      " [0.49 ]\n",
      " [1.02 ]\n",
      " [1.25 ]\n",
      " [1.015]\n",
      " [0.385]\n",
      " [1.07 ]\n",
      " [1.215]]\n"
     ]
    }
   ],
   "source": [
    "split = 'trainval'\n",
    "selective_search_dir = os.path.join(\"../data/VOCdevkit/VOC2007/\", 'selective_search_data')\n",
    "roi_data = scipy.io.loadmat(selective_search_dir + '/voc_2007_'+ split + '.mat')\n",
    "\n",
    "\n",
    "\n",
    "# print(roi_data.keys())\n",
    "# print(roi_data['images'].shape)\n",
    "# print(roi_data['images'][:,5])\n",
    "# print(roi_data['boxes'][:,5][0].shape)\n",
    "# print(roi_data['boxScores'][0,10].shape)\n",
    "height = 200.0\n",
    "box = roi_data['boxes'][0,100]\n",
    "box_scores = roi_data['boxScores'][0,100]\n",
    "# print(box_scores)\n",
    "top_n = 10\n",
    "ind = np.argpartition(box_scores, -top_n, axis=0)[-top_n:]\n",
    "# print(ind)\n",
    "# ind = ind[1,0]\n",
    "top = box[ind]\n",
    "# print(top[:,0])\n",
    "# print(top[:,0][:,0])\n",
    "topppy = top[:,0][:,2] \n",
    "topppy = np.true_divide(topppy, height).reshape(10,1)\n",
    "topppx = top[:,0][:,1] \n",
    "topppx = np.true_divide(topppx, height).reshape(10,1)\n",
    "# top[:,0][:,0] /= height\n",
    "\n",
    "print(topppy.shape)\n",
    "\n",
    "arr = np.empty((top_n, 1))\n",
    "arr = np.concatenate((arr, topppy), axis=1)\n",
    "\n",
    "arr = np.concatenate((arr, ), axis=1)\n",
    "arr = arr[:,1:]\n",
    "print(arr)\n"
   ]
  },
  {
   "cell_type": "code",
   "execution_count": 4,
   "id": "confused-witness",
   "metadata": {},
   "outputs": [
    {
     "name": "stdout",
     "output_type": "stream",
     "text": [
      "[[0.49865952 0.286      0.82841823 0.764     ]\n",
      " [0.00268097 0.862      0.46380697 1.        ]\n",
      " [0.48525469 0.378      0.86058981 0.8       ]\n",
      " [0.31099196 0.254      0.58176944 0.726     ]\n",
      " [0.47453083 0.372      0.89008043 0.726     ]\n",
      " [0.00268097 0.514      0.51474531 0.958     ]\n",
      " [0.51206434 0.372      0.68632708 0.762     ]\n",
      " [0.00268097 0.172      0.57908847 0.962     ]\n",
      " [0.51206434 0.374      0.78552279 0.762     ]\n",
      " [0.00268097 0.374      0.58981233 0.958     ]]\n"
     ]
    }
   ],
   "source": [
    "#TODO: get the image information from index 2020\n",
    "idx = 2020\n",
    "\n",
    "# input = \n",
    "\n",
    "ret = dataset[idx]\n",
    "print(ret['rois'])"
   ]
  },
  {
   "cell_type": "markdown",
   "id": "rational-recycling",
   "metadata": {},
   "source": [
    "## Wandb Init and Logging\n",
    "Initialize a Weights and Biases project, and convert the image tensor to a PIL image and plot it (check `utils.py` for helper functions).\n",
    "\n",
    "You can use [this](https://docs.wandb.ai/library/log) as a reference for logging syntax."
   ]
  },
  {
   "cell_type": "code",
   "execution_count": 10,
   "id": "conventional-flexibility",
   "metadata": {},
   "outputs": [
    {
     "data": {
      "text/html": [
       "Finishing last run (ID:3kvhu1kj) before initializing another..."
      ],
      "text/plain": [
       "<IPython.core.display.HTML object>"
      ]
     },
     "metadata": {},
     "output_type": "display_data"
    },
    {
     "data": {
      "text/html": [
       "<br/>Waiting for W&B process to finish, PID 7794<br/>Program ended successfully."
      ],
      "text/plain": [
       "<IPython.core.display.HTML object>"
      ]
     },
     "metadata": {},
     "output_type": "display_data"
    },
    {
     "data": {
      "application/vnd.jupyter.widget-view+json": {
       "model_id": "c3f477146be24f28ae0d129039397c89",
       "version_major": 2,
       "version_minor": 0
      },
      "text/plain": [
       "VBox(children=(Label(value=' 0.08MB of 0.08MB uploaded (0.00MB deduped)\\r'), FloatProgress(value=1.0, max=1.0)…"
      ]
     },
     "metadata": {},
     "output_type": "display_data"
    },
    {
     "data": {
      "text/html": [
       "Find user logs for this run at: <code>/home/oem/CMU/VLR/hw2/wandb/run-20220319_182343-3kvhu1kj/logs/debug.log</code>"
      ],
      "text/plain": [
       "<IPython.core.display.HTML object>"
      ]
     },
     "metadata": {},
     "output_type": "display_data"
    },
    {
     "data": {
      "text/html": [
       "Find internal logs for this run at: <code>/home/oem/CMU/VLR/hw2/wandb/run-20220319_182343-3kvhu1kj/logs/debug-internal.log</code>"
      ],
      "text/plain": [
       "<IPython.core.display.HTML object>"
      ]
     },
     "metadata": {},
     "output_type": "display_data"
    },
    {
     "data": {
      "text/html": [
       "<h3>Run summary:</h3><br/><style>\n",
       "    table.wandb td:nth-child(1) { padding: 0 10px; text-align: right }\n",
       "    </style><table class=\"wandb\">\n",
       "<tr><td>_runtime</td><td>6511</td></tr><tr><td>_timestamp</td><td>1647735134</td></tr><tr><td>_step</td><td>0</td></tr></table>"
      ],
      "text/plain": [
       "<IPython.core.display.HTML object>"
      ]
     },
     "metadata": {},
     "output_type": "display_data"
    },
    {
     "data": {
      "text/html": [
       "<h3>Run history:</h3><br/><style>\n",
       "    table.wandb td:nth-child(1) { padding: 0 10px; text-align: right }\n",
       "    </style><table class=\"wandb\">\n",
       "<tr><td>_runtime</td><td>▁</td></tr><tr><td>_timestamp</td><td>▁</td></tr><tr><td>_step</td><td>▁</td></tr></table><br/>"
      ],
      "text/plain": [
       "<IPython.core.display.HTML object>"
      ]
     },
     "metadata": {},
     "output_type": "display_data"
    },
    {
     "data": {
      "text/html": [
       "Synced 6 W&B file(s), 2 media file(s), 0 artifact file(s) and 0 other file(s)"
      ],
      "text/plain": [
       "<IPython.core.display.HTML object>"
      ]
     },
     "metadata": {},
     "output_type": "display_data"
    },
    {
     "data": {
      "text/html": [
       "\n",
       "                    <br/>Synced <strong style=\"color:#cdcd00\">super-bee-1</strong>: <a href=\"https://wandb.ai/sseivur/vlr2/runs/3kvhu1kj\" target=\"_blank\">https://wandb.ai/sseivur/vlr2/runs/3kvhu1kj</a><br/>\n",
       "                "
      ],
      "text/plain": [
       "<IPython.core.display.HTML object>"
      ]
     },
     "metadata": {},
     "output_type": "display_data"
    },
    {
     "data": {
      "text/html": [
       "...Successfully finished last run (ID:3kvhu1kj). Initializing new run:<br/><br/>"
      ],
      "text/plain": [
       "<IPython.core.display.HTML object>"
      ]
     },
     "metadata": {},
     "output_type": "display_data"
    },
    {
     "name": "stderr",
     "output_type": "stream",
     "text": [
      "\u001b[34m\u001b[1mwandb\u001b[0m: wandb version 0.12.11 is available!  To upgrade, please run:\n",
      "\u001b[34m\u001b[1mwandb\u001b[0m:  $ pip install wandb --upgrade\n"
     ]
    },
    {
     "data": {
      "text/html": [
       "\n",
       "                Tracking run with wandb version 0.12.1<br/>\n",
       "                Syncing run <strong style=\"color:#cdcd00\">lyric-monkey-2</strong> to <a href=\"https://wandb.ai\" target=\"_blank\">Weights & Biases</a> <a href=\"https://docs.wandb.com/integrations/jupyter.html\" target=\"_blank\">(Documentation)</a>.<br/>\n",
       "                Project page: <a href=\"https://wandb.ai/sseivur/vlr2\" target=\"_blank\">https://wandb.ai/sseivur/vlr2</a><br/>\n",
       "                Run page: <a href=\"https://wandb.ai/sseivur/vlr2/runs/8uaka5bz\" target=\"_blank\">https://wandb.ai/sseivur/vlr2/runs/8uaka5bz</a><br/>\n",
       "                Run data is saved locally in <code>/home/oem/CMU/VLR/hw2/wandb/run-20220319_201238-8uaka5bz</code><br/><br/>\n",
       "            "
      ],
      "text/plain": [
       "<IPython.core.display.HTML object>"
      ]
     },
     "metadata": {},
     "output_type": "display_data"
    }
   ],
   "source": [
    "if USE_WANDB:\n",
    "    wandb.init(project=\"vlr2\", reinit=True)"
   ]
  },
  {
   "cell_type": "markdown",
   "id": "demanding-ladder",
   "metadata": {},
   "source": [
    "See this block as an example of plotting the ground truth box for an image."
   ]
  },
  {
   "cell_type": "code",
   "execution_count": 11,
   "id": "resistant-concert",
   "metadata": {},
   "outputs": [],
   "source": [
    "class_id_to_label = dict(enumerate(dataset.CLASS_NAMES))\n",
    "original_image = tensor_to_PIL(ret['image'])\n",
    "gt_labels = ret['gt_classes']\n",
    "# print(gt_labels)\n",
    "# gt_labels = np.nonzero(gt_labels)\n",
    "# print(gt_labels)\n",
    "# print(np.nonzero(gt_labels).numpy())\n",
    "gt_boxes = ret['gt_boxes']\n",
    "# print(gt_boxes)\n",
    "img = wandb.Image(original_image, boxes={\n",
    "    \"predictions\": {\n",
    "        \"box_data\": get_box_data(gt_labels, gt_boxes),\n",
    "        \"class_labels\": class_id_to_label,\n",
    "    },\n",
    "})\n",
    "wandb.log({\"image\": img})"
   ]
  },
  {
   "cell_type": "markdown",
   "id": "matched-thread",
   "metadata": {},
   "source": [
    "Check the `get_box_data` function in `utils.py` and understand how it is being used. Log the image with the GT bounding box on wandb.\n",
    "After, this you should be able to easily plot the top 10 bounding proposals as well."
   ]
  },
  {
   "cell_type": "code",
   "execution_count": 9,
   "id": "floating-repository",
   "metadata": {},
   "outputs": [],
   "source": [
    "rois = ret['rois']\n",
    "# nums = range(len(rois)) # placeholder for names of proposals\n",
    "nums = ret['gt_classes']\n",
    "\n",
    "#TODO: plot top ten proposals (of bounding boxes)"
   ]
  }
 ],
 "metadata": {
  "kernelspec": {
   "display_name": "Python 3",
   "language": "python",
   "name": "python3"
  },
  "language_info": {
   "codemirror_mode": {
    "name": "ipython",
    "version": 3
   },
   "file_extension": ".py",
   "mimetype": "text/x-python",
   "name": "python",
   "nbconvert_exporter": "python",
   "pygments_lexer": "ipython3",
   "version": "3.8.8"
  }
 },
 "nbformat": 4,
 "nbformat_minor": 5
}
